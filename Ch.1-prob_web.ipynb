{
 "cells": [
  {
   "cell_type": "markdown",
   "metadata": {},
   "source": [
    "# Ch.1　正定値カーネル（問題1～15）"
   ]
  },
  {
   "cell_type": "code",
   "execution_count": null,
   "metadata": {},
   "outputs": [],
   "source": [
    "# 第 1 章のプログラムは，事前に下記が実行されていることを仮定する。\n",
    "import numpy as np\n",
    "import matplotlib.pyplot as plt\n",
    "from matplotlib import style\n",
    "style.use(\"seaborn-ticks\")"
   ]
  },
  {
   "cell_type": "markdown",
   "metadata": {},
   "source": [
    "### 2"
   ]
  },
  {
   "cell_type": "code",
   "execution_count": null,
   "metadata": {},
   "outputs": [],
   "source": [
    "def k(x, y, lam):\n",
    "    return D(np.abs((x - y) / lam))"
   ]
  },
  {
   "cell_type": "code",
   "execution_count": null,
   "metadata": {},
   "outputs": [],
   "source": [
    "n = 250\n",
    "x = 2 * np.random.normal(size=n)\n",
    "y = np.sin(2 * np.pi * x) + np.random.normal(size=n) / 4\n",
    "\n",
    "plt.figure(num=1, figsize=(15, 8), dpi=80)\n",
    "plt.xlim(-3, 3)\n",
    "plt.ylim(-2, 3)\n",
    "plt.xticks(fontsize=14)\n",
    "plt.yticks(fontsize=14)\n",
    "plt.scatter(x, y, facecolors=\"none\", edgecolors=\"k\", marker=\"o\")\n",
    "\n",
    "xx = np.arange(-3, 3, 0.1)\n",
    "yy = [[] for _ in range(3)]\n",
    "lam = [0.05, 0.35, 0.50]\n",
    "color = [\"g\", \"b\", \"r\"]\n",
    "for i in range(3):\n",
    "    for zz in xx:\n",
    "        yy[i].append(f(zz, lam[i]))\n",
    "    plt.plot(xx, yy[i], c=color[i], label=lam[i])\n",
    "\n",
    "plt.legend(loc=\"upper left\", frameon=True, prop={'size': 14})\n",
    "plt.title(\"Nadaraya-Watson Estimator\", fontsize=20)"
   ]
  },
  {
   "cell_type": "markdown",
   "metadata": {},
   "source": [
    "### 8"
   ]
  },
  {
   "cell_type": "code",
   "execution_count": null,
   "metadata": {},
   "outputs": [],
   "source": [
    "def K(x, y, sigma2):\n",
    "    return np.exp(-np.linalg.norm(x - y)**2 / 2 / sigma2)\n",
    "\n",
    "\n",
    "n = 100\n",
    "x = 2 * np.random.normal(size=n)\n",
    "y = np.sin(2 * np.pi * x) + np.random.normal(size=n) / 4\n",
    "\n",
    "m = int(n / 10)\n",
    "sigma2_seq = np.arange(0.001, 0.01, 0.001)\n",
    "SS_min = np.inf\n",
    "for sigma2 in sigma2_seq:\n",
    "    SS = 0\n",
    "    for k in range(10):\n",
    "        test = range(k * m, (k+1) * m)\n",
    "        train = [x for x in range(n) if x not in test]\n",
    "        for j in test:\n",
    "            u, v = 0, 0\n",
    "            for i in train:\n",
    "                kk = K(x[i], x[j], sigma2)\n",
    "                u = u + kk * y[i]\n",
    "                v = v + kk\n",
    "            if not(v == 0):\n",
    "                z = u / v\n",
    "                SS = SS + (y[j] - z)**2\n",
    "    if SS < SS_min:\n",
    "        SS_min = SS\n",
    "        sigma2_best = sigma2\n",
    "print(\"Best sigma2 =\", sigma2_best)"
   ]
  },
  {
   "cell_type": "markdown",
   "metadata": {},
   "source": [
    "### 12\n"
   ]
  },
  {
   "cell_type": "code",
   "execution_count": null,
   "metadata": {},
   "outputs": [],
   "source": [
    "def string_kernel(x, y):\n",
    "    m, n = len(x), len(y)\n",
    "    S = 0\n",
    "    for i in range(m):\n",
    "        for j in range(i, m):\n",
    "            for k in range(n):\n",
    "                if x[(i-1):j] == y[(k-1):(k+j-i)]:\n",
    "                    S = S + 1\n",
    "    return S"
   ]
  },
  {
   "cell_type": "markdown",
   "metadata": {},
   "source": [
    "### 15"
   ]
  },
  {
   "cell_type": "code",
   "execution_count": null,
   "metadata": {},
   "outputs": [],
   "source": [
    "def k(s, p):\n",
    "    return prob(s, p) / len(node)\n",
    "\n",
    "\n",
    "def prob(s, p):\n",
    "    if len(node[s[0]]) == 0:\n",
    "        return 0\n",
    "    if len(s) == 1:\n",
    "        return p\n",
    "    m = len(s)\n",
    "    S = (1 - p) / len(node[s[0]]) * prob(s[1:m], p)\n",
    "    return S"
   ]
  }
 ],
 "metadata": {
  "kernelspec": {
   "display_name": "Python 3",
   "language": "python",
   "name": "python3"
  },
  "language_info": {
   "codemirror_mode": {
    "name": "ipython",
    "version": 3
   },
   "file_extension": ".py",
   "mimetype": "text/x-python",
   "name": "python",
   "nbconvert_exporter": "python",
   "pygments_lexer": "ipython3",
   "version": "3.8.3"
  }
 },
 "nbformat": 4,
 "nbformat_minor": 5
}
