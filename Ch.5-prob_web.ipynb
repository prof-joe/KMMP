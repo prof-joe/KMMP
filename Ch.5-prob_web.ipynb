{
 "cells": [
  {
   "cell_type": "markdown",
   "metadata": {},
   "source": [
    "# Ch.5　MMD と HSIC（問題65～83）"
   ]
  },
  {
   "cell_type": "code",
   "execution_count": null,
   "metadata": {},
   "outputs": [],
   "source": [
    "# 第 5 章のプログラムは，事前に下記が実行されていることを仮定する。\n",
    "import numpy as np\n",
    "from scipy.stats import kde\n",
    "import itertools\n",
    "import math\n",
    "import matplotlib.pyplot as plt\n",
    "from matplotlib import style\n",
    "style.use(\"seaborn-ticks\")"
   ]
  },
  {
   "cell_type": "markdown",
   "metadata": {},
   "source": [
    "### 76"
   ]
  },
  {
   "cell_type": "code",
   "execution_count": null,
   "metadata": {},
   "outputs": [],
   "source": [
    "def cc(x, y):\n",
    "    return np.sum(np.dot(x.T, y)) / len(x)\n",
    "\n",
    "\n",
    "def f(u, v):\n",
    "    return u - cc(u, v) / cc(v, v) * v"
   ]
  },
  {
   "cell_type": "code",
   "execution_count": null,
   "metadata": {},
   "outputs": [],
   "source": [
    "# Data generation\n",
    "n = 30\n",
    "x = np.random.randn(n)**2 - np.random.randn(n)**2\n",
    "y = 2 * x + np.random.randn(n)**2 - np.random.randn(n)**2\n",
    "z = x + y + np.random.randn(n)**2 - np.random.randn(n)**2\n",
    "x = x - np.mean(x)\n",
    "y = y - np.mean(y)\n",
    "z = z - np.mean(z)\n",
    "\n",
    "\n",
    "# 上流を推定\n",
    "def cc(x, y):\n",
    "    return np.sum(np.dot(x.T, y) / len(x))\n",
    "\n",
    "\n",
    "def f(u, v):\n",
    "    return u - cc(u, v) / cc(v, v) * v\n",
    "\n",
    "\n",
    "x_y = f(x, y)\n",
    "y_z = f(y, z)\n",
    "z_x = f(z, x)\n",
    "x_z = f(x, z)\n",
    "z_y = f(z, y)\n",
    "y_x = f(y, x)\n",
    "\n",
    "v1 = HSIC_2(x, y_x, z_x, k_x, k_y, k_z)\n",
    "v2 = HSIC_2(y, z_y, x_y, k_y, k_z, k_x)\n",
    "v3 = HSIC_2(z, x_z, y_z, k_z, k_x, k_y)\n",
    "\n",
    "if v1 < v2:\n",
    "    if v1 < v3:\n",
    "        top = 1\n",
    "    else:\n",
    "        top = 3\n",
    "else:\n",
    "    if v2 < v3:\n",
    "        top = 2\n",
    "    else:\n",
    "        top = 3\n",
    "\n",
    "# 下流を推定\n",
    "x_yz = f(x_y, z_y)\n",
    "y_zx = f(y_z, x_z)\n",
    "z_xy = f(z_x, y_x)\n",
    "\n",
    "if top == 1:\n",
    "    v1 = ## 空欄(1) ##\n",
    "    v2 = ## 空欄(2) ##\n",
    "    if v1 < v2:\n",
    "        middle = 2\n",
    "        bottom = 3\n",
    "    else:\n",
    "        middle = 3\n",
    "        bottom = 2\n",
    "if top == 2:\n",
    "    v1 = ## 空欄(3) ##\n",
    "    v2 = ## 空欄(4) ##\n",
    "    if v1 < v2:\n",
    "        middle = 3\n",
    "        bottom = 1\n",
    "    else:\n",
    "        middle = 1\n",
    "        bottom = 3\n",
    "\n",
    "if top == 3:\n",
    "    v1 = ## 空欄(5) ##\n",
    "    v2 = ## 空欄(6) ##\n",
    "    if v1 < v2:\n",
    "        middle = 1\n",
    "        bottom = 2\n",
    "    else:\n",
    "        middle = 2\n",
    "        bottom = 1\n",
    "\n",
    "# 結果を出力\n",
    "print(\"top =\", top)\n",
    "print(\"middle =\", middle)\n",
    "print(\"bottom =\", bottom)"
   ]
  },
  {
   "cell_type": "markdown",
   "metadata": {},
   "source": [
    "### 77"
   ]
  },
  {
   "cell_type": "code",
   "execution_count": null,
   "metadata": {},
   "outputs": [],
   "source": [
    "# データの生成\n",
    "x = np.random.randn(n)\n",
    "y = np.random.randn(n)\n",
    "u = HSIC_1(x, y, k_x, k_y)\n",
    "m = 100\n",
    "w = []\n",
    "for i in range(m):\n",
    "    x = x[np.random.choice(n, n, replace=False)]\n",
    "    w.append(HSIC_1(x, y, k_x, k_y))\n",
    "v = np.quantile(w, 0.95)\n",
    "x = np.linspace(min(min(w), u, v), max(max(w), u, v), 200)\n",
    "\n",
    "density = kde.gaussian_kde(w)\n",
    "plt.plot(x, density(x))\n",
    "plt.axvline(x=v, c=\"r\", linestyle=\"--\")\n",
    "plt.axvline(x=u, c=\"b\")"
   ]
  }
 ],
 "metadata": {
  "kernelspec": {
   "display_name": "Python 3",
   "language": "python",
   "name": "python3"
  },
  "language_info": {
   "codemirror_mode": {
    "name": "ipython",
    "version": 3
   },
   "file_extension": ".py",
   "mimetype": "text/x-python",
   "name": "python",
   "nbconvert_exporter": "python",
   "pygments_lexer": "ipython3",
   "version": "3.8.3"
  }
 },
 "nbformat": 4,
 "nbformat_minor": 5
}
