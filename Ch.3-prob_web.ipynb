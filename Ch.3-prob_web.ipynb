{
 "cells": [
  {
   "cell_type": "markdown",
   "metadata": {},
   "source": [
    "# Ch.3　再生核 Hilbert 空間（問題31～45）"
   ]
  },
  {
   "cell_type": "code",
   "execution_count": null,
   "metadata": {},
   "outputs": [],
   "source": [
    "# 第 3 章のプログラムは，事前に下記が実行されていることを仮定する。\n",
    "import numpy as np\n",
    "import matplotlib.pyplot as plt\n",
    "from matplotlib import style\n",
    "style.use(\"seaborn-ticks\")"
   ]
  },
  {
   "cell_type": "markdown",
   "metadata": {},
   "source": [
    "### 38"
   ]
  },
  {
   "cell_type": "code",
   "execution_count": null,
   "metadata": {},
   "outputs": [],
   "source": [
    "def H(j, x):\n",
    "    if j == 0:\n",
    "        return 1\n",
    "    elif j == 1:\n",
    "        return 2 * x\n",
    "    elif j == 2:\n",
    "        return -2 + 4 * x**2\n",
    "    else:\n",
    "        return 4 * x - 8 * x**3"
   ]
  },
  {
   "cell_type": "code",
   "execution_count": null,
   "metadata": {},
   "outputs": [],
   "source": [
    "cc = np.sqrt(5) / 4\n",
    "a = 1/4         ##\n",
    "\n",
    "\n",
    "def phi(j, x):  ###\n",
    "    return np.exp(-(cc - a) * x**2) * H(j, np.sqrt(2 * cc) * x)\n",
    "\n",
    "\n",
    "color = [\"b\", \"g\", \"r\", \"k\"]\n",
    "x = np.linspace(-2, 2, 100)\n",
    "plt.plot(x, phi(0, x), c=color[0], label=\"j = 0\")\n",
    "plt.ylim(-2, 8)\n",
    "plt.ylabel(\"phi\")\n",
    "for i in range(0, 3):\n",
    "    plt.plot(x, phi(i, x), c=color[i + 1], label=\"j = %d\" % i)\n",
    "plt.title(\"Characteristic function of Gauss Kernel\")"
   ]
  },
  {
   "cell_type": "markdown",
   "metadata": {},
   "source": [
    "### 42"
   ]
  },
  {
   "cell_type": "code",
   "execution_count": null,
   "metadata": {},
   "outputs": [],
   "source": [
    "K = np.zeros((m, m))\n",
    "for i in range(m):\n",
    "    for j in range(m):\n",
    "        K[i, j] = k(x[i], x[j])\n",
    "    values, vectors = np.linalg.eig(K)\n",
    "    lam = values / m\n",
    "    alpha = np.zeros((m, m))\n",
    "    for i in range(m):\n",
    "        alpha[:, i] = vectors[:, i] * np.sqrt(m) / (values[i] + 10e-16)\n",
    "\n",
    "\n",
    "def F(y, i):\n",
    "    S = 0\n",
    "    for j in range(m):\n",
    "        S = S + alpha[j, i] * k(x[j], y)\n",
    "        return S"
   ]
  }
 ],
 "metadata": {
  "kernelspec": {
   "display_name": "Python 3",
   "language": "python",
   "name": "python3"
  },
  "language_info": {
   "codemirror_mode": {
    "name": "ipython",
    "version": 3
   },
   "file_extension": ".py",
   "mimetype": "text/x-python",
   "name": "python",
   "nbconvert_exporter": "python",
   "pygments_lexer": "ipython3",
   "version": "3.8.3"
  }
 },
 "nbformat": 4,
 "nbformat_minor": 5
}
