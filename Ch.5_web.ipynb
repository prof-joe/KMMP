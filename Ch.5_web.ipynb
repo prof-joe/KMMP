{
 "cells": [
  {
   "cell_type": "markdown",
   "metadata": {},
   "source": [
    "# Ch.5　MMD と HSIC"
   ]
  },
  {
   "cell_type": "code",
   "execution_count": 1,
   "metadata": {},
   "outputs": [],
   "source": [
    "# 第 5 章のプログラムは，事前に下記が実行されていることを仮定する。\n",
    "import numpy as np\n",
    "from scipy.stats import kde\n",
    "import itertools\n",
    "import math\n",
    "import matplotlib.pyplot as plt\n",
    "from matplotlib import style\n",
    "style.use(\"seaborn-ticks\")"
   ]
  },
  {
   "cell_type": "markdown",
   "metadata": {},
   "source": [
    "## 5.1　RKHS における確率変数"
   ]
  },
  {
   "cell_type": "markdown",
   "metadata": {},
   "source": [
    "## 5.2　MMD と 2 標本問題"
   ]
  },
  {
   "cell_type": "markdown",
   "metadata": {},
   "source": [
    "### 例71"
   ]
  },
  {
   "cell_type": "code",
   "execution_count": 2,
   "metadata": {},
   "outputs": [
    {
     "data": {
      "text/plain": [
       "<matplotlib.lines.Line2D at 0x1cd8aa6a370>"
      ]
     },
     "execution_count": 2,
     "metadata": {},
     "output_type": "execute_result"
    },
    {
     "data": {
      "image/png": "[encoded data removed]",
      "text/plain": [
       "<Figure size 432x288 with 1 Axes>"
      ]
     },
     "metadata": {},
     "output_type": "display_data"
    }
   ],
   "source": [
    "sigma = 1\n",
    "\n",
    "\n",
    "def k(x, y):\n",
    "    return np.exp(-(x - y)**2 / sigma**2)\n",
    "\n",
    "\n",
    "# データの生成\n",
    "n = 100\n",
    "xx = np.random.randn(n)\n",
    "yy = np.random.randn(n)        # 分布が等しいとき\n",
    "# yy = 2 * np.random.randn(n)  # 分布が等しくないとき\n",
    "x = xx\n",
    "y = yy\n",
    "\n",
    "# 帰無分布の計算\n",
    "T = []\n",
    "for h in range(100):\n",
    "    index1 = np.random.choice(n, size=int(n/2), replace=False)\n",
    "    index2 = [x for x in range(n) if x not in index1]\n",
    "    x = list(xx[index2]) + list(yy[index1])\n",
    "    y = list(xx[index1]) + list(yy[index2])\n",
    "    S = 0\n",
    "    for i in range(n):\n",
    "        for j in range(n):\n",
    "            if i != j:\n",
    "                S = S + k(x[i], x[j]) + k(y[i], y[j]) \\\n",
    "                    - k(x[i], y[j]) - k(x[j], y[i])\n",
    "    T.append(S / n / (n - 1))\n",
    "v = np.quantile(T, 0.95)\n",
    "\n",
    "# 統計量の計算\n",
    "S = 0\n",
    "for i in range(n):\n",
    "    for j in range(n):\n",
    "        if i != j:\n",
    "            S = S + k(x[i], x[j]) + k(y[i], y[j]) \\\n",
    "                - k(x[i], y[j]) - k(x[j], y[i])\n",
    "u = S / n / (n - 1)\n",
    "\n",
    "# グラフの図示\n",
    "x = np.linspace(min(min(T), u, v), max(max(T), u, v), 200)\n",
    "density = kde.gaussian_kde(T)\n",
    "plt.plot(x, density(x))\n",
    "plt.axvline(x=u, c=\"r\", linestyle=\"--\")\n",
    "plt.axvline(x=v, c=\"b\")"
   ]
  },
  {
   "cell_type": "markdown",
   "metadata": {},
   "source": [
    "### 例73"
   ]
  },
  {
   "cell_type": "code",
   "execution_count": 3,
   "metadata": {},
   "outputs": [
    {
     "name": "stderr",
     "output_type": "stream",
     "text": [
      "<ipython-input-3-bc15dbbf965b>:24: ComplexWarning: Casting complex values to real discards the imaginary part\n",
      "  z.append(np.longdouble(1 / n * (np.sum(lam[0:r] * (\n"
     ]
    },
    {
     "data": {
      "text/plain": [
       "<matplotlib.lines.Line2D at 0x1cd8aba5550>"
      ]
     },
     "execution_count": 3,
     "metadata": {},
     "output_type": "execute_result"
    },
    {
     "data": {
      "image/png": "[encoded data removed]",
      "text/plain": [
       "<Figure size 432x288 with 1 Axes>"
      ]
     },
     "metadata": {},
     "output_type": "display_data"
    }
   ],
   "source": [
    "sigma = 1\n",
    "\n",
    "\n",
    "def k(x, y):\n",
    "    return np.exp(-(x - y)**2 / sigma**2)\n",
    "\n",
    "\n",
    "# データの生成\n",
    "n = 100\n",
    "x = np.random.randn(n)\n",
    "y = np.random.randn(n)        # 分布が等しいとき\n",
    "# y = 2 * np.random.randn(n)  # 分布が等しくないとき\n",
    "\n",
    "# 帰無分布の計算\n",
    "K = np.zeros((n, n))\n",
    "for i in range(n):\n",
    "    for j in range(n):\n",
    "        K[i, j] = k(x[i], x[j]) + k(y[i], y[j]) - k(x[i], y[j]) - k(x[j], y[i])\n",
    "lam, vec = np.linalg.eig(K)\n",
    "lam = lam / n\n",
    "r = 20\n",
    "z = []\n",
    "for h in range(10000):\n",
    "    z.append(np.longdouble(1 / n * (np.sum(lam[0:r] * (\n",
    "        np.random.chisquare(df=1, size=r) - 1)))))\n",
    "v = np.quantile(z, 0.95)\n",
    "\n",
    "# 統計量の計算\n",
    "S = 0\n",
    "for i in range(n - 1):\n",
    "    for j in range(i + 1, n):\n",
    "        S = S + k(x[i], x[j]) + k(y[i], y[j]) - k(x[i], y[j]) - k(x[j], y[i])\n",
    "u = np.longdouble(S / n / (n - 1))\n",
    "x = np.linspace(min(min(z), u, v), max(max(z), u, v), 200)\n",
    "\n",
    "# グラフの図示\n",
    "density = kde.gaussian_kde(z)\n",
    "plt.plot(x, density(x))\n",
    "plt.axvline(x=v, c=\"r\", linestyle=\"--\")\n",
    "plt.axvline(x=u, c=\"b\")"
   ]
  },
  {
   "cell_type": "markdown",
   "metadata": {},
   "source": [
    "## 5.3　HSIC と独立性検定"
   ]
  },
  {
   "cell_type": "code",
   "execution_count": 4,
   "metadata": {},
   "outputs": [],
   "source": [
    "def HSIC_1(x, y, k_x, k_y):\n",
    "    n = len(x)\n",
    "    S = 0\n",
    "    for i in range(n):\n",
    "        for j in range(n):\n",
    "            S = S + k_x(x[i], x[j]) * k_y(y[i], y[j])\n",
    "    T = 0\n",
    "    for i in range(n):\n",
    "        T_1 = 0\n",
    "        for j in range(n):\n",
    "            T_1 = T_1 + k_x(x[i], x[j])\n",
    "        T_2 = 0\n",
    "        for l in range(n):\n",
    "            T_2 = T_2 + k_y(y[i], y[l])\n",
    "        T = T + T_1 * T_2\n",
    "    U = 0\n",
    "    for i in range(n):\n",
    "        for j in range(n):\n",
    "            U = U + k_x(x[i], x[j])\n",
    "    V = 0\n",
    "    for i in range(n):\n",
    "        for j in range(n):\n",
    "            V = V + k_y(y[i], y[j])\n",
    "    return S / n**2 - 2 * T / n**3 + U * V / n**4"
   ]
  },
  {
   "cell_type": "code",
   "execution_count": 5,
   "metadata": {},
   "outputs": [],
   "source": [
    "def HSIC_1(x, y, k_x, k_y):\n",
    "    n = len(x)\n",
    "    K_x = np.zeros((n, n))\n",
    "    for i in range(n):\n",
    "        for j in range(n):\n",
    "            K_x[i, j] = k_x(x[i], x[j])\n",
    "    K_y = np.zeros((n, n))\n",
    "    for i in range(n):\n",
    "        for j in range(n):\n",
    "            K_y[i, j] = k_y(y[i], y[j])\n",
    "    E = np.ones((n, n))\n",
    "    H = np.identity(n) - E / n\n",
    "    return np.sum(np.diag(np.diag(K_x.dot(H).dot(K_y).dot(H)))) / n**2"
   ]
  },
  {
   "cell_type": "markdown",
   "metadata": {},
   "source": [
    "### 例76"
   ]
  },
  {
   "cell_type": "code",
   "execution_count": 6,
   "metadata": {},
   "outputs": [
    {
     "name": "stdout",
     "output_type": "stream",
     "text": [
      "0.0009736437528577454\n",
      "0.001400951577772509\n",
      "0.001833994198411774\n",
      "0.008413397368394523\n",
      "0.02378942294661505\n",
      "0.039967622061365525\n"
     ]
    }
   ],
   "source": [
    "def k_x(x, y):\n",
    "    return np.exp(-np.linalg.norm(x - y)**2 / 2)\n",
    "\n",
    "\n",
    "k_y = k_x\n",
    "k_z = k_x\n",
    "n = 100\n",
    "for a in [0, 0.1, 0.2, 0.4, 0.6, 0.8]:  # a は相関係数\n",
    "    x = np.random.randn(n)\n",
    "    z = np.random.randn(n)\n",
    "    y = a * x + np.sqrt(1 - a**2) * z\n",
    "    print(HSIC_1(x, y, k_x, k_y))"
   ]
  },
  {
   "cell_type": "code",
   "execution_count": 7,
   "metadata": {},
   "outputs": [],
   "source": [
    "def HSIC_2(x, y, z, k_x, k_y, k_z):\n",
    "    n = len(x)\n",
    "    S = 0\n",
    "    for i in range(n):\n",
    "        for j in range(n):\n",
    "            S = S + k_x(x[i], x[j]) * k_y(y[i], y[j]) * k_z(z[i], z[j])\n",
    "    T = 0\n",
    "    for i in range(n):\n",
    "        T_1 = 0\n",
    "        for j in range(n):\n",
    "            T_1 = T_1 + k_x(x[i], x[j])\n",
    "        T_2 = 0\n",
    "        for l in range(n):\n",
    "            T_2 = T_2 + k_y(y[i], y[l]) * k_z(z[i], z[j])\n",
    "        T = T + T_1 * T_2\n",
    "    U = 0\n",
    "    for i in range(n):\n",
    "        for j in range(n):\n",
    "            U = U + k_x(x[i], x[j])\n",
    "    V = 0\n",
    "    for i in range(n):\n",
    "        for j in range(n):\n",
    "            V = V + k_y(y[i], y[j]) * k_z(z[i], z[j])\n",
    "    return S / n**2 - 2 * T / n**3 + U * V / n**4"
   ]
  },
  {
   "cell_type": "markdown",
   "metadata": {},
   "source": [
    "### 例77"
   ]
  },
  {
   "cell_type": "code",
   "execution_count": 8,
   "metadata": {},
   "outputs": [],
   "source": [
    "def cc(x, y):\n",
    "    return np.sum(np.dot(x.T, y)) / len(x)\n",
    "\n",
    "\n",
    "def f(u, v):\n",
    "    return u - cc(u, v) / cc(v, v) * v"
   ]
  },
  {
   "cell_type": "code",
   "execution_count": 9,
   "metadata": {},
   "outputs": [
    {
     "name": "stdout",
     "output_type": "stream",
     "text": [
      "top = 3\n",
      "middle = 2\n",
      "bottom = 1\n"
     ]
    }
   ],
   "source": [
    "# データ生成\n",
    "n = 30\n",
    "x = np.random.randn(n)**2 - np.random.randn(n)**2\n",
    "y = 2 * x + np.random.randn(n)**2 - np.random.randn(n)**2\n",
    "z = x + y + np.random.randn(n)**2 - np.random.randn(n)**2\n",
    "x = x - np.mean(x)\n",
    "y = y - np.mean(y)\n",
    "z = z - np.mean(z)\n",
    "\n",
    "# 上流を推定\n",
    "x_y = f(x, y)\n",
    "y_z = f(y, z)\n",
    "z_x = f(z, x)\n",
    "x_z = f(x, z)\n",
    "z_y = f(z, y)\n",
    "y_x = f(y, x)\n",
    "v1 = HSIC_2(x, y_x, z_x, k_x, k_y, k_z)\n",
    "v2 = HSIC_2(y, z_y, x_y, k_y, k_z, k_x)\n",
    "v3 = HSIC_2(z, x_z, y_z, k_z, k_x, k_y)\n",
    "\n",
    "if v1 < v2:\n",
    "    if v1 < v3:\n",
    "        top = 1\n",
    "    else:\n",
    "        top = 3\n",
    "else:\n",
    "    if v2 < v3:\n",
    "        top = 2\n",
    "    else:\n",
    "        top = 3\n",
    "\n",
    "# 下流を推定\n",
    "x_yz = f(x_y, z_y)\n",
    "y_zx = f(y_z, x_z)\n",
    "z_xy = f(z_x, y_x)\n",
    "\n",
    "if top == 1:\n",
    "    v1 = HSIC_1(y_x, z_xy, k_y, k_z)\n",
    "    v2 = HSIC_1(z_x, y_zx, k_z, k_y)\n",
    "    if v1 < v2:\n",
    "        middle = 2\n",
    "        bottom = 3\n",
    "    else:\n",
    "        middle = 3\n",
    "        bottom = 2\n",
    "if top == 2:\n",
    "    v1 = HSIC_1(z_y, x_yz, k_y, k_z)\n",
    "    v2 = HSIC_1(x_y, z_xy, k_z, k_y)\n",
    "    if v1 < v2:\n",
    "        middle = 3\n",
    "        bottom = 1\n",
    "    else:\n",
    "        middle = 1\n",
    "        bottom = 3\n",
    "\n",
    "if top == 3:\n",
    "    v1 = HSIC_1(z_y, x_yz, k_z, k_x)\n",
    "    v2 = HSIC_1(x_y, z_xy, k_x, k_z)\n",
    "    if v1 < v2:\n",
    "        middle = 1\n",
    "        bottom = 2\n",
    "    else:\n",
    "        middle = 2\n",
    "        bottom = 1\n",
    "\n",
    "# 結果を出力\n",
    "print(\"top =\", top)\n",
    "print(\"middle =\", middle)\n",
    "print(\"bottom =\", bottom)"
   ]
  },
  {
   "cell_type": "markdown",
   "metadata": {},
   "source": [
    "### 例78"
   ]
  },
  {
   "cell_type": "code",
   "execution_count": 10,
   "metadata": {},
   "outputs": [
    {
     "data": {
      "text/plain": [
       "<matplotlib.lines.Line2D at 0x1cd8ab4bfd0>"
      ]
     },
     "execution_count": 10,
     "metadata": {},
     "output_type": "execute_result"
    },
    {
     "data": {
      "image/png": "[encoded data removed]",
      "text/plain": [
       "<Figure size 432x288 with 1 Axes>"
      ]
     },
     "metadata": {},
     "output_type": "display_data"
    }
   ],
   "source": [
    "# x を並べ替えて，HSIC の分布をヒストグラムで表示\n",
    "# データ生成\n",
    "x = np.random.randn(n)\n",
    "y = np.random.randn(n)\n",
    "u = HSIC_1(x, y, k_x, k_y)\n",
    "\n",
    "# x を並べ替えて，帰無分布を構成\n",
    "m = 100\n",
    "w = []\n",
    "for i in range(m):\n",
    "    x = x[np.random.choice(n, n, replace=False)]\n",
    "    w.append(HSIC_1(x, y, k_x, k_y))\n",
    "\n",
    "# 棄却域を設定\n",
    "v = np.quantile(w, 0.95)\n",
    "x = np.linspace(min(min(w), u, v), max(max(w), u, v), 200)\n",
    "\n",
    "# グラフで表示\n",
    "density = kde.gaussian_kde(w)\n",
    "plt.plot(x, density(x))\n",
    "plt.axvline(x=v, c=\"r\", linestyle=\"--\")\n",
    "plt.axvline(x=u, c=\"b\")"
   ]
  },
  {
   "cell_type": "code",
   "execution_count": 11,
   "metadata": {},
   "outputs": [],
   "source": [
    "def h(i, j, q, r, x, y, k_x, k_y):\n",
    "    M = list(itertools.combinations([i, j, q, r], 4))\n",
    "    m = len(M)\n",
    "    S = 0\n",
    "    for j in range(m):\n",
    "        t = M[j][0]\n",
    "        u = M[j][1]\n",
    "        v = M[j][2]\n",
    "        w = M[j][3]\n",
    "        S = S + k_x(x[t], x[u]) * k_y(y[t], y[u]) \\\n",
    "            + k_x(x[t], x[u]) * k_y(y[v], y[w]) \\\n",
    "            - 2 * k_x(x[t], x[u]) * k_y(y[t], y[v])\n",
    "    return S / m\n",
    "\n",
    "\n",
    "def HSIC_U(x, y, k_x, k_y):\n",
    "    M = list(itertools.combinations(range(n), 4))\n",
    "    m = len(M)\n",
    "    S = 0\n",
    "    for j in range(m):\n",
    "        S = S + h(M[j][0], M[j][1], M[j][2], M[j][3], x, y, k_x, k_y)\n",
    "    return S / math.comb(n, 4)"
   ]
  },
  {
   "cell_type": "markdown",
   "metadata": {},
   "source": [
    "### 例79"
   ]
  },
  {
   "cell_type": "code",
   "execution_count": 12,
   "metadata": {},
   "outputs": [
    {
     "name": "stdout",
     "output_type": "stream",
     "text": [
      "[9.54005214e-03 8.32153853e-03 7.22253040e-03 5.01302709e-03\n",
      " 3.60365843e-03 2.86975859e-03 2.19531341e-03 1.86905699e-03\n",
      " 1.49967690e-03 1.38193318e-03 1.05761952e-03 8.86093045e-04\n",
      " 7.79747520e-04 5.50078162e-04 4.85679060e-04 4.06283642e-04\n",
      " 3.45310492e-04 2.89447051e-04 2.36675284e-04 1.73316786e-04\n",
      " 1.50158502e-04 1.59948545e-04 1.16597455e-04 9.38184193e-05\n",
      " 8.14542331e-05 6.71905705e-05 5.99647133e-05 4.91633756e-05\n",
      " 3.19674401e-05 2.71114964e-05 2.27983986e-05 1.80721704e-05\n",
      " 1.70597432e-05 1.57247192e-05 1.17730466e-05 9.83787642e-06\n",
      " 8.23853251e-06 7.02348750e-06 6.32228187e-06 3.95289415e-06\n",
      " 3.66533211e-06 3.16543786e-06 2.49308187e-06 2.01540174e-06\n",
      " 1.73893492e-06 1.58800600e-06 1.19003169e-06 9.75829618e-07\n",
      " 8.51422766e-07 6.12329544e-07 5.12249857e-07 4.27248441e-07\n",
      " 3.72914372e-07 3.44682942e-07 2.61529427e-07 2.18284643e-07\n",
      " 1.65391794e-07 1.42431037e-07 1.33971130e-07 9.07883661e-08\n",
      " 8.52079474e-08 6.68796794e-08 5.35060377e-08 4.05106423e-08\n",
      " 3.14740423e-08 3.04682642e-08 2.30004633e-08 2.18084723e-08\n",
      " 1.48058024e-08 9.75498298e-09 6.53541931e-09 5.14247051e-09\n",
      " 4.37204380e-09 3.78461578e-09 2.62512872e-09 2.10253508e-09\n",
      " 1.83545603e-09 1.14935962e-09 7.91177683e-10 6.53868892e-10\n",
      " 5.48539037e-10 3.65141519e-10 3.24695863e-10 1.99306776e-10\n",
      " 1.05588114e-10 8.72627433e-11 7.08613652e-11 5.55766149e-11\n",
      " 2.31266573e-11 8.79014748e-12 6.73294785e-12 3.68213869e-12\n",
      " 2.06242133e-12 1.21060158e-12 9.66935909e-13 4.07669343e-13\n",
      " 2.25477640e-13 6.99601773e-14 8.02709137e-15 9.66217963e-15]\n"
     ]
    },
    {
     "data": {
      "text/plain": [
       "<matplotlib.lines.Line2D at 0x1cd8ac79250>"
      ]
     },
     "execution_count": 12,
     "metadata": {},
     "output_type": "execute_result"
    },
    {
     "data": {
      "image/png": "[encoded data removed]",
      "text/plain": [
       "<Figure size 432x288 with 1 Axes>"
      ]
     },
     "metadata": {},
     "output_type": "display_data"
    }
   ],
   "source": [
    "sigma = 1\n",
    "def k(x, y):\n",
    "    return np.exp(-(x-y)**2 / sigma**2)\n",
    "k_x = k; k_y = k\n",
    "# データの生成\n",
    "n = 100; x = np.random.randn(n)\n",
    "a = 0         # 独立のとき\n",
    "# a = 0.2     # 相関係数 0.2\n",
    "y = a * x + np.sqrt(1 - a**2) * np.random.randn(n)\n",
    "# y = np.random.randn(n)*2  # 分布が等しくないとき\n",
    "# 帰無分布の計算\n",
    "K_x = np.zeros((n, n))\n",
    "for i in range(n):\n",
    "    for j in range(n):\n",
    "        K_x[i, j] = k_x(x[i], x[j])\n",
    "K_y = np.zeros((n, n))\n",
    "for i in range(n):\n",
    "    for j in range(n):\n",
    "        K_y[i, j] = k_y(y[i], y[j])\n",
    "F = np.zeros(n)\n",
    "for i in range(n):\n",
    "    F[i] = np.sum(K_x[i, :]) / n\n",
    "G = np.zeros((n))\n",
    "for i in range(n):\n",
    "    G[i] = np.sum(K_y[i, :]) / n\n",
    "H = np.sum(F) / n\n",
    "I = np.sum(G) / n\n",
    "K = np.zeros((n, n))\n",
    "for i in range(n):\n",
    "    for j in range(n):\n",
    "        K[i, j] = (K_x[i, j] - F[i] - F[j] + H) * (K_y[i, j] - G[i] - G[j] + I) / 6\n",
    "r = 20\n",
    "lam, vec = np.linalg.eig(K)\n",
    "lam = lam / n\n",
    "print(lam)\n",
    "z = []\n",
    "for s in range(10000):\n",
    "    z.append(1 / n * (np.sum(lam[0:r] * (np.random.chisquare(df=1, size=r) - 1))))\n",
    "v = np.quantile(z, 0.95)\n",
    "# 統計量の計算\n",
    "u = HSIC_U(x, y, k_x, k_y)\n",
    "# グラフの図示\n",
    "x = np.linspace(min(min(z), u, v), max(max(z), u, v), 200)\n",
    "density = kde.gaussian_kde(z)\n",
    "plt.plot(x, density(x))\n",
    "plt.axvline(x=v, c=\"r\", linestyle=\"--\")\n",
    "plt.axvline(x=u, c=\"b\")"
   ]
  },
  {
   "cell_type": "markdown",
   "metadata": {},
   "source": [
    "## 5.4　特性カーネルと普遍カーネル"
   ]
  },
  {
   "cell_type": "markdown",
   "metadata": {},
   "source": [
    "## 5.5　経験過程入門"
   ]
  }
 ],
 "metadata": {
  "kernelspec": {
   "display_name": "Python 3",
   "language": "python",
   "name": "python3"
  },
  "language_info": {
   "codemirror_mode": {
    "name": "ipython",
    "version": 3
   },
   "file_extension": ".py",
   "mimetype": "text/x-python",
   "name": "python",
   "nbconvert_exporter": "python",
   "pygments_lexer": "ipython3",
   "version": "3.8.3"
  }
 },
 "nbformat": 4,
 "nbformat_minor": 5
}
