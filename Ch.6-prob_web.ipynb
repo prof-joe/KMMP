{
 "cells": [
  {
   "cell_type": "markdown",
   "metadata": {},
   "source": [
    "# Ch.6　Gauss 過程と関数データ解析（問題84～100）"
   ]
  },
  {
   "cell_type": "code",
   "execution_count": null,
   "metadata": {},
   "outputs": [],
   "source": [
    "# 第 6 章のプログラムは，事前に下記が実行されていることを仮定する。\n",
    "import numpy as np\n",
    "import matplotlib.pyplot as plt\n",
    "from matplotlib import style\n",
    "from sklearn.decomposition import PCA\n",
    "import skfda"
   ]
  },
  {
   "cell_type": "markdown",
   "metadata": {},
   "source": [
    "### 86"
   ]
  },
  {
   "cell_type": "code",
   "execution_count": null,
   "metadata": {},
   "outputs": [],
   "source": [
    "def gp_2(x_pred):\n",
    "    h = np.zeros(n)\n",
    "    for i in range(n):\n",
    "        h[i] = k(x_pred, x[i])\n",
    "    L = np.linalg.cholesky(K + sigma_2 * np.identity(n))\n",
    "    alpha = np.linalg.solve(L, np.linalg.solve(L.T, (y - mu(x))))\n",
    "    mm = mu(x_pred) + np.sum(np.dot(h.T, alpha))\n",
    "    gamma = np.linalg.solve(L.T, h)\n",
    "    ss = k(x_pred, x_pred) - np.sum(gamma**2)\n",
    "    return {\"mm\": mm, \"ss\": ss}"
   ]
  }
 ],
 "metadata": {
  "kernelspec": {
   "display_name": "Python 3",
   "language": "python",
   "name": "python3"
  },
  "language_info": {
   "codemirror_mode": {
    "name": "ipython",
    "version": 3
   },
   "file_extension": ".py",
   "mimetype": "text/x-python",
   "name": "python",
   "nbconvert_exporter": "python",
   "pygments_lexer": "ipython3",
   "version": "3.8.3"
  }
 },
 "nbformat": 4,
 "nbformat_minor": 5
}
